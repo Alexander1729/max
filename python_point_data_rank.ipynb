{
 "cells": [
  {
   "cell_type": "code",
   "execution_count": null,
   "metadata": {},
   "outputs": [],
   "source": [
    "import pandas as pd\n",
    "\n",
    "i_df = pd.read_excel(\"C:/Users/alelen/Documents/Export Data/Instrument Transforms.xls\", skiprows=36, header=None)\n",
    "c = i_df.head(8).to_markdown(); print(c)\n",
    "len(i_df)/7\n",
    "\n",
    "i_df_org = pd.DataFrame(columns=['Station name', 'Measures', 'Scale factor', 'Position X', 'Position Y', 'Position Z', 'Rx', 'Ry', 'Rz'])\n",
    "\n",
    "for i in range(0,len(i_df),7):\n",
    "    name = i_df[0].iloc[0+i]\n",
    "    meas = i_df[1].iloc[1+i]\n",
    "    scale = i_df[1].iloc[2+i]\n",
    "    px = i_df[1].iloc[4+i]\n",
    "    py = i_df[2].iloc[4+i]\n",
    "    pz = i_df[3].iloc[4+i]\n",
    "    rx = i_df[1].iloc[6+i]\n",
    "    ry = i_df[2].iloc[6+i]\n",
    "    rz = i_df[3].iloc[6+i]\n",
    "\n",
    "    i_df_org.loc[len(i_df_org)] = [name, meas, scale, px, py,pz, rx,ry,rz]\n",
    "\n",
    "i_df_org.loc[:, ('Station name')] = 'ST' + i_df_org['Station name'].str.split('ST').str[1]\n",
    "\n",
    "i_df_org"
   ]
  }
 ],
 "metadata": {
  "kernelspec": {
   "display_name": "Python 3",
   "language": "python",
   "name": "python3"
  },
  "language_info": {
   "name": "python",
   "version": "3.11.4"
  },
  "orig_nbformat": 4
 },
 "nbformat": 4,
 "nbformat_minor": 2
}
